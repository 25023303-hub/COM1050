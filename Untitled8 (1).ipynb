{
  "nbformat": 4,
  "nbformat_minor": 0,
  "metadata": {
    "colab": {
      "provenance": []
    },
    "kernelspec": {
      "name": "python3",
      "display_name": "Python 3"
    },
    "language_info": {
      "name": "python"
    }
  },
  "cells": [
    {
      "cell_type": "markdown",
      "source": [
        "A2"
      ],
      "metadata": {
        "id": "iaHTczt-SKfK"
      }
    },
    {
      "cell_type": "code",
      "source": [
        "a = int(input())\n",
        "b = int(input())\n",
        "print(\"Trước khi hoán đổi:\")\n",
        "print(\"a =\", a)\n",
        "print(\"b =\", b)\n",
        "a = a ^ b\n",
        "b = a ^ b\n",
        "a = a ^ b\n",
        "print(\"Sau khi hoán đổi:\")\n",
        "print(\"a =\", a)\n",
        "print(\"b =\", b)"
      ],
      "metadata": {
        "colab": {
          "base_uri": "https://localhost:8080/"
        },
        "id": "Pa-yEJf-QfsC",
        "outputId": "db64c944-8ee9-493e-a10e-86ce5daa5d5e"
      },
      "execution_count": 3,
      "outputs": [
        {
          "output_type": "stream",
          "name": "stdout",
          "text": [
            "5\n",
            "7\n",
            "Trước khi hoán đổi:\n",
            "a = 5\n",
            "b = 7\n",
            "Sau khi hoán đổi:\n",
            "a = 7\n",
            "b = 5\n"
          ]
        }
      ]
    },
    {
      "cell_type": "markdown",
      "source": [
        "A3"
      ],
      "metadata": {
        "id": "8U7Ek4GdWtji"
      }
    },
    {
      "cell_type": "code",
      "source": [
        "n = int(input())\n",
        "\n",
        "if n > 0 and (n & (n - 1)) == 0:\n",
        "    print(n, \"là lũy thừa của 2.\")\n",
        "else:\n",
        "    print(n, \"không phải là lũy thừa của 2.\")"
      ],
      "metadata": {
        "colab": {
          "base_uri": "https://localhost:8080/"
        },
        "id": "joFFr5VEVVwH",
        "outputId": "bd67138c-09c7-4f58-d27b-ede24cef2547"
      },
      "execution_count": 10,
      "outputs": [
        {
          "output_type": "stream",
          "name": "stdout",
          "text": [
            "16\n",
            "16 là lũy thừa của 2.\n"
          ]
        }
      ]
    },
    {
      "cell_type": "markdown",
      "source": [
        "A4"
      ],
      "metadata": {
        "id": "mqw4vlM-T4Sl"
      }
    },
    {
      "cell_type": "code",
      "source": [
        "a = int(input(\"a = \"))\n",
        "b = int(input(\"b = \"))\n",
        "thuong_so = a // b\n",
        "print (thuong_so)"
      ],
      "metadata": {
        "colab": {
          "base_uri": "https://localhost:8080/"
        },
        "id": "vKVJXZxlTsdW",
        "outputId": "d449ff97-8ff1-41aa-e65d-fab6c4349ca9"
      },
      "execution_count": 13,
      "outputs": [
        {
          "output_type": "stream",
          "name": "stdout",
          "text": [
            "a = 7\n",
            "b = 3\n",
            "2\n"
          ]
        }
      ]
    },
    {
      "cell_type": "markdown",
      "source": [
        "A5"
      ],
      "metadata": {
        "id": "dj5qji5uXeYB"
      }
    },
    {
      "cell_type": "code",
      "source": [
        "import math\n",
        "a = int(input(\"a = \"))\n",
        "b = int(input(\"b = \"))\n",
        "thuong_so = math.ceil(a / b)\n",
        "print (thuong_so)"
      ],
      "metadata": {
        "colab": {
          "base_uri": "https://localhost:8080/"
        },
        "id": "OqN9OsHQXUri",
        "outputId": "41b9ffce-c92d-40da-b9f8-80be64b533d2"
      },
      "execution_count": 14,
      "outputs": [
        {
          "output_type": "stream",
          "name": "stdout",
          "text": [
            "a = 9\n",
            "b = 4\n",
            "3\n"
          ]
        }
      ]
    },
    {
      "cell_type": "markdown",
      "source": [
        "A6"
      ],
      "metadata": {
        "id": "u6HlIpQfp9eB"
      }
    },
    {
      "cell_type": "code",
      "source": [
        "x = int(input(\"Nhập số: \"))\n",
        "if x % 2 == 0:\n",
        "  print(\"Even\")\n",
        "elif x % 2 != 0:\n",
        "  print(\"Odd\")"
      ],
      "metadata": {
        "colab": {
          "base_uri": "https://localhost:8080/"
        },
        "id": "dtpubPFCmrd9",
        "outputId": "9e05f71d-416b-4dd5-e5e4-c22c5e9349de"
      },
      "execution_count": 15,
      "outputs": [
        {
          "output_type": "stream",
          "name": "stdout",
          "text": [
            "Nhập số: 8\n",
            "Even\n"
          ]
        }
      ]
    },
    {
      "cell_type": "markdown",
      "source": [
        "A7"
      ],
      "metadata": {
        "id": "sAZ8Xgxyp_uZ"
      }
    },
    {
      "cell_type": "code",
      "source": [
        "a = int(input(\"a = \"))\n",
        "b = int(input(\"b = \"))\n",
        "if a < 0 and b < 0:\n",
        "  print(\"Yes\")\n",
        "else:\n",
        "  print(\"No\")"
      ],
      "metadata": {
        "colab": {
          "base_uri": "https://localhost:8080/"
        },
        "id": "8iSXWGGqnhaK",
        "outputId": "948e7ce9-df2c-43fe-c3cc-64fb09435eb6"
      },
      "execution_count": 16,
      "outputs": [
        {
          "output_type": "stream",
          "name": "stdout",
          "text": [
            "a = 7\n",
            "b = -4\n",
            "No\n"
          ]
        }
      ]
    },
    {
      "cell_type": "markdown",
      "source": [
        "A8"
      ],
      "metadata": {
        "id": "n9j8HtySqDYf"
      }
    },
    {
      "cell_type": "code",
      "source": [
        "a = str(input(\"Nhập từ:\"))\n",
        "b = str(input(\"Nhập từ:\"))\n",
        "x = len(a)\n",
        "y = len(b)\n",
        "if x > y:\n",
        "  print(\"True\")\n",
        "else:\n",
        "  print(\"False\")"
      ],
      "metadata": {
        "colab": {
          "base_uri": "https://localhost:8080/"
        },
        "id": "O4UEIbS3obLe",
        "outputId": "04ac6397-b49f-420b-ce31-06b15cea7851"
      },
      "execution_count": 17,
      "outputs": [
        {
          "output_type": "stream",
          "name": "stdout",
          "text": [
            "Nhập từ:the \n",
            "Nhập từ:with\n",
            "False\n"
          ]
        }
      ]
    },
    {
      "cell_type": "markdown",
      "source": [
        "A9"
      ],
      "metadata": {
        "id": "qcfGpVDHu4YX"
      }
    },
    {
      "cell_type": "code",
      "source": [
        "a = int(input(\"Canh_1: \"))\n",
        "b = int(input(\"Canh_2: \"))\n",
        "c = int(input(\"Canh_3: \"))\n",
        "if a + b > c and a + c > b and b + c > a:\n",
        "  print(\"Yes\")\n",
        "else:\n",
        "  print(\"No\")"
      ],
      "metadata": {
        "colab": {
          "base_uri": "https://localhost:8080/"
        },
        "id": "q2wRgAy-uF0P",
        "outputId": "81b05ea9-44f3-4285-bf1e-322c9d6e67b4"
      },
      "execution_count": 19,
      "outputs": [
        {
          "output_type": "stream",
          "name": "stdout",
          "text": [
            "Canh_1: 6\n",
            "Canh_2: 7\n",
            "Canh_3: 9\n",
            "Yes\n"
          ]
        }
      ]
    },
    {
      "cell_type": "markdown",
      "source": [
        "A10"
      ],
      "metadata": {
        "id": "BDW4puMet3Bz"
      }
    },
    {
      "cell_type": "code",
      "source": [
        "a = int(input(\"a = \"))\n",
        "b = int(input(\"b = \"))\n",
        "c = int(input(\"c = \"))\n",
        "d = int(input(\"d = \"))\n",
        "n = a\n",
        "if b > n:\n",
        "  n = b\n",
        "if c > n:\n",
        "  n = c\n",
        "if d > n:\n",
        "  n = d\n",
        "print(\"Số lớn nhất:\", n)"
      ],
      "metadata": {
        "colab": {
          "base_uri": "https://localhost:8080/"
        },
        "id": "Mzd2abUIqylr",
        "outputId": "86614561-f650-4b04-ee9b-3a18c18c823b"
      },
      "execution_count": 21,
      "outputs": [
        {
          "output_type": "stream",
          "name": "stdout",
          "text": [
            "a = 5\n",
            "b = 9\n",
            "c = 14\n",
            "d = -5\n",
            "Số lớn nhất: 14\n"
          ]
        }
      ]
    },
    {
      "cell_type": "markdown",
      "source": [],
      "metadata": {
        "id": "9rctTGfev3sS"
      }
    },
    {
      "cell_type": "markdown",
      "source": [
        "A11"
      ],
      "metadata": {
        "id": "bNbeJvx6xD7n"
      }
    },
    {
      "cell_type": "code",
      "source": [
        "a = int(input(\"canh_1: \"))\n",
        "b = int(input(\"canh_2: \"))\n",
        "c = int(input(\"canh_3: \"))\n",
        "if a + b > c and a + c > b and b + c > a:\n",
        "  if a == b ==c:\n",
        "    print(\"Tam giac can\")\n",
        "  elif a == b or b == c or a == c:\n",
        "    print(\"Tam giac deu\")\n",
        "  else:\n",
        "    print(\"Tam giac thuong\")\n",
        "else:\n",
        "  print(\"Khong phai tam giac\")"
      ],
      "metadata": {
        "colab": {
          "base_uri": "https://localhost:8080/"
        },
        "id": "FbYnf8Hlv1UU",
        "outputId": "5da7c16e-b467-4ab4-be80-9801673e281c"
      },
      "execution_count": 22,
      "outputs": [
        {
          "output_type": "stream",
          "name": "stdout",
          "text": [
            "canh_1: 6\n",
            "canh_2: 7\n",
            "canh_3: 9\n",
            "Tam giac thuong\n"
          ]
        }
      ]
    },
    {
      "cell_type": "markdown",
      "source": [
        "A12"
      ],
      "metadata": {
        "id": "GcM-yXUNyI2f"
      }
    },
    {
      "cell_type": "code",
      "source": [
        "year = int(input(\"Nhập năm: \"))\n",
        "if year % 4 == 0:\n",
        "  if year % 100 != 0:\n",
        "    print (\"Yes\")\n",
        "if year % 400 == 0:\n",
        "    print (\"Yes\")\n",
        "else:\n",
        "  print (\"No\")\n",
        "\n"
      ],
      "metadata": {
        "colab": {
          "base_uri": "https://localhost:8080/"
        },
        "id": "fCj8esSPxGQi",
        "outputId": "e47b1a73-c77e-4c40-ad86-8115b227d7cf"
      },
      "execution_count": null,
      "outputs": [
        {
          "output_type": "stream",
          "name": "stdout",
          "text": [
            "Nhập năm: 2000\n",
            "Yes\n"
          ]
        }
      ]
    },
    {
      "cell_type": "markdown",
      "source": [
        "A14"
      ],
      "metadata": {
        "id": "tXaFouj-bLIU"
      }
    },
    {
      "cell_type": "code",
      "source": [
        "a = int(input(\"hệ số là: \"))\n",
        "b = int(input(\"hệ số tự do là: \"))\n",
        "if a == 0:\n",
        "  if b == 0:\n",
        "    print(\"Vô số nghiệm\")\n",
        "  else:\n",
        "    print(\"Vô nghiệm\")\n",
        "else:\n",
        "  nghiem = -b / a\n",
        "  print(f\"Nghiệm của phương trình là: {nghiem:.2f}\")"
      ],
      "metadata": {
        "colab": {
          "base_uri": "https://localhost:8080/"
        },
        "id": "OBf0fsFYaZPo",
        "outputId": "12b5b7a8-76db-4e47-ffab-2c4ee535a8d0"
      },
      "execution_count": 25,
      "outputs": [
        {
          "output_type": "stream",
          "name": "stdout",
          "text": [
            "hệ số là: 5\n",
            "hệ số tự do là: 7\n",
            "Nghiệm của phương trình là: -1.40\n"
          ]
        }
      ]
    },
    {
      "cell_type": "markdown",
      "source": [
        "A15"
      ],
      "metadata": {
        "id": "CApziWRJ0dAv"
      }
    },
    {
      "cell_type": "code",
      "source": [
        "a = float(input(\"Điểm trung bình:\"))\n",
        "if a >= 8.0:\n",
        "  print(\"Giỏi\")\n",
        "elif a >= 6.5 and a < 8.0:\n",
        "  print(\"Khá\")\n",
        "elif a >= 5.0 and a < 6.5:\n",
        "  print(\"Trung bình\")\n",
        "else:\n",
        "  print(\"Yếu\")"
      ],
      "metadata": {
        "colab": {
          "base_uri": "https://localhost:8080/"
        },
        "id": "6boLiOKOy906",
        "outputId": "38ce6a3b-a9c0-46b1-aa43-7479b8850491"
      },
      "execution_count": null,
      "outputs": [
        {
          "output_type": "stream",
          "name": "stdout",
          "text": [
            "Điểm trung bình:7.5\n",
            "Khá\n"
          ]
        }
      ]
    },
    {
      "cell_type": "markdown",
      "source": [
        "A16"
      ],
      "metadata": {
        "id": "p1vMUjwNeviT"
      }
    },
    {
      "cell_type": "code",
      "source": [
        "a = float(input(\"Nhập số thực: \"))\n",
        "if a >= 0:\n",
        "  tron_xuong = int(a)\n",
        "  print(\"làm tròn xuống: \", tron_xuong)\n",
        "else:\n",
        "  tron_xuong = int(a) - 1\n",
        "  print(\"làm tròn xuống: \", tron_xuong)\n",
        "\n",
        "if a >= 0:\n",
        "  tron_len = int(a) + 1\n",
        "  print(\"làm tròn lên: \", tron_len)\n",
        "else:\n",
        "  tron_len = int(a)\n",
        "  print(\"làm tròn lên: \", tron_len)\n",
        "\n",
        "print(\"làm tròn đến số nguyên gần nhất: \", round(a))"
      ],
      "metadata": {
        "colab": {
          "base_uri": "https://localhost:8080/"
        },
        "id": "CtV5Oep3c3qS",
        "outputId": "cfbd50c3-7b75-4c51-85af-aea0da1b5f45"
      },
      "execution_count": 28,
      "outputs": [
        {
          "output_type": "stream",
          "name": "stdout",
          "text": [
            "Nhập số thực: 4.3\n",
            "làm tròn xuống:  4\n",
            "làm tròn lên:  5\n",
            "làm tròn đến số nguyên gần nhất:  4\n"
          ]
        }
      ]
    },
    {
      "cell_type": "markdown",
      "source": [
        "A17"
      ],
      "metadata": {
        "id": "qqvBy4IA2b82"
      }
    },
    {
      "cell_type": "code",
      "source": [
        "a = int(input(\"so_1: \"))\n",
        "b = int(input(\"so_2: \"))\n",
        "c = int(input(\"so_3: \"))\n",
        "d = int(input(\"so_4: \"))\n",
        "if b / a == c / b == d / c:\n",
        "  print(\"Đây là cấp số nhân\")\n",
        "else:\n",
        "  print(\"Đây không phải là cấp số nhân\")\n"
      ],
      "metadata": {
        "colab": {
          "base_uri": "https://localhost:8080/"
        },
        "id": "FH6jhPpf1ulL",
        "outputId": "2a809bb9-215a-4794-be7e-e8d63eab7fd0"
      },
      "execution_count": 23,
      "outputs": [
        {
          "output_type": "stream",
          "name": "stdout",
          "text": [
            "so_1: 2\n",
            "so_2: 4\n",
            "so_3: 8\n",
            "so_4: 16\n",
            "Đây là cấp số nhân\n"
          ]
        }
      ]
    }
  ]
}