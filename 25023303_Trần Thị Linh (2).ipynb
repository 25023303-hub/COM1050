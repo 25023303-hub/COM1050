{
  "nbformat": 4,
  "nbformat_minor": 0,
  "metadata": {
    "colab": {
      "provenance": []
    },
    "kernelspec": {
      "name": "python3",
      "display_name": "Python 3"
    },
    "language_info": {
      "name": "python"
    }
  },
  "cells": [
    {
      "cell_type": "code",
      "execution_count": 41,
      "metadata": {
        "colab": {
          "base_uri": "https://localhost:8080/"
        },
        "id": "lYJP7BnP0gtd",
        "outputId": "36ccc1da-7d58-48cb-eb36-205d827c48dd"
      },
      "outputs": [
        {
          "output_type": "stream",
          "name": "stdout",
          "text": [
            "Toán: 7.0\n",
            "Lý: 9.5\n",
            "Hóa: 4.9\n",
            "Anh: 6.7\n",
            "Xếp loại học lực: Khá\n"
          ]
        }
      ],
      "source": [
        "a = float(input(\"Toán: \"))\n",
        "b = float(input(\"Lý: \"))\n",
        "c = float(input(\"Hóa: \"))\n",
        "d = float(input(\"Anh: \"))\n",
        "r = (a + b + c + d) / 4\n",
        "if r >= 9.0:\n",
        "  print(\"Xếp loại học lực: Xuất sắc\")\n",
        "elif r >= 8.5 and r < 9.0:\n",
        "  print(\"Xếp loại học lực: Giỏi\")\n",
        "elif r >= 7.0 and r < 8.5:\n",
        "  print(\"Xếp loại học lực: Khá\")\n",
        "elif r >= 5.0 and r < 7.0:\n",
        "  print(\"Xếp loại học lực: Trung bình\")\n",
        "else:\n",
        "  print(\"Xếp loại học lực: Yếu\")"
      ]
    },
    {
      "cell_type": "code",
      "source": [
        "a = float(input(\"Chiều cao (m): \"))\n",
        "b = float(input(\"Cân nặng (kg): \"))\n",
        "c = b / (a ** 2)\n",
        "categories = [\"Thiếu cân\", \"Bình thường\", \"Thừa cân\", \"Béo phì\"]\n",
        "index = (c < 18.5) + (18.5 <= c < 25) + (25 <= c < 30) + (c >= 30)\n",
        "print(f\"BMI của bạn: {c:.2f}\")\n",
        "print(f\"Phân loại: {categories[index]}\")"
      ],
      "metadata": {
        "colab": {
          "base_uri": "https://localhost:8080/"
        },
        "id": "AdlPkYmr7Lb0",
        "outputId": "31a68d0e-673d-4fb5-e5c1-7c0888d0aaef"
      },
      "execution_count": 29,
      "outputs": [
        {
          "output_type": "stream",
          "name": "stdout",
          "text": [
            "Chiều cao (m): 1.55\n",
            "Cân nặng (kg): 50\n",
            "BMI của bạn: 20.81\n",
            "Phân loại: Bình thường\n"
          ]
        }
      ]
    },
    {
      "cell_type": "code",
      "source": [
        "name = str(input(\"Nhập tên mặt hàng: \"))\n",
        "q = int(input(\"Nhập số lượng: \"))\n",
        "p = float(input(\"Nhập đơn giá: \"))\n",
        "sum = q * p\n",
        "print(f\"Thành tiền ($): {sum}\")\n",
        "if sum >= 100:\n",
        "  print(f\"Tiền giảm giá ($): {sum * 0.1}\")\n",
        "  print(f\"Tổng thanh toán ($): {sum * 0.9}\")\n",
        "if sum >= 50 and sum < 100:\n",
        "  print(f\"Tiền giảm giá ($): {sum * 0.05}\")\n",
        "  print(f\"Tổng thanh toán ($): {sum * 0.95}\")\n"
      ],
      "metadata": {
        "colab": {
          "base_uri": "https://localhost:8080/"
        },
        "id": "Ug4T6sh-EA8y",
        "outputId": "4ceb0bd2-59a5-4560-a940-885cda5ef5ec"
      },
      "execution_count": 42,
      "outputs": [
        {
          "output_type": "stream",
          "name": "stdout",
          "text": [
            "Nhập tên mặt hàng: sổ tay\n",
            "Nhập số lượng: 3\n",
            "Nhập đơn giá: 27\n",
            "Thành tiền ($): 81.0\n",
            "Tiền giảm giá ($): 4.05\n",
            "Tổng thanh toán ($): 76.95\n"
          ]
        }
      ]
    }
  ]
}